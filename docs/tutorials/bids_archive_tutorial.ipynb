{
 "cells": [
  {
   "cell_type": "markdown",
   "metadata": {},
   "source": [
    "This notebook teaches how to use the BIDS Archive class."
   ]
  },
  {
   "cell_type": "markdown",
   "metadata": {},
   "source": [
    "# BIDS Archive: Opening Existing Dataset\n",
    "\n",
    "Objective: Learn how to create a BIDS Archive pointing to a specific dataset on disk.\n",
    "\n",
    "Procedure:\n",
    "1. Download a small, sample dataset from OpenNeuro to use with `BidsArchive`.\n",
    "2. Open the dataset using `BidsArchive` and print out some summary data about it"
   ]
  },
  {
   "cell_type": "code",
   "execution_count": 1,
   "metadata": {},
   "outputs": [
    {
     "name": "stdout",
     "output_type": "stream",
     "text": [
      "Dataset successfully downloaded\n"
     ]
    },
    {
     "name": "stderr",
     "output_type": "stream",
     "text": [
      "/Users/stephen/opt/miniconda3/envs/rtcloud/lib/python3.6/site-packages/sklearn/externals/joblib/__init__.py:15: DeprecationWarning: sklearn.externals.joblib is deprecated in 0.21 and will be removed in 0.23. Please import this functionality directly from joblib, which can be installed with: pip install joblib. If this warning is raised when loading pickled models, you may need to re-serialize those models with scikit-learn 0.21+.\n",
      "  warnings.warn(msg, category=DeprecationWarning)\n"
     ]
    },
    {
     "name": "stdout",
     "output_type": "stream",
     "text": [
      "Archive:  Root: ...t-cloud/docs/tutorials/dataset | Subjects: 1 | Sessions: 0 | Runs: 1\n"
     ]
    }
   ],
   "source": [
    "\"\"\" Add rtCommon to the path \"\"\"\n",
    "import os\n",
    "import sys\n",
    "currPath = os.path.dirname(os.path.realpath(os.getcwd()))\n",
    "rootPath = os.path.dirname(currPath)\n",
    "sys.path.append(rootPath)\n",
    "\n",
    "\n",
    "\"\"\" Download the dataset \"\"\"\n",
    "import subprocess\n",
    "\n",
    "# https://openneuro.org/datasets/ds002014/versions/1.0.1/download -- <40MB dataset\n",
    "TARGET_DIR = 'dataset'\n",
    "command = 'aws s3 sync --no-sign-request s3://openneuro.org/ds002014 ' + TARGET_DIR\n",
    "command = command.split(' ')\n",
    "if subprocess.call(command) == 0:\n",
    "    print(\"Dataset successfully downloaded\")\n",
    "else:\n",
    "    print(\"Error in calling download command\")\n",
    "    \n",
    "\n",
    "\"\"\" Open downloaded dataset \"\"\"\n",
    "from rtCommon.bidsArchive import BidsArchive\n",
    "\n",
    "archive = BidsArchive(TARGET_DIR)\n",
    "print('Archive: ', archive)"
   ]
  },
  {
   "cell_type": "markdown",
   "metadata": {},
   "source": [
    "# BIDS Archive: Querying Dataset\n",
    "\n",
    "Objective: Learn how to extract information and files from the `BidsArchive`.\n",
    "\n",
    "Procedure:\n",
    "\n",
    "1. Search for images in the dataset.\n",
    "2. Search for sidecar metadata for the images in the dataset."
   ]
  },
  {
   "cell_type": "code",
   "execution_count": 12,
   "metadata": {},
   "outputs": [
    {
     "name": "stderr",
     "output_type": "stream",
     "text": [
      "ERROR:rtCommon.bidsArchive:No images have all provided entities: {'subject': 'invalidSubject'}\n"
     ]
    },
    {
     "name": "stdout",
     "output_type": "stream",
     "text": [
      "Dataset info: Subjects: ['01'] | Runs: [1] | Tasks: ['languageproduction']\n",
      "\n",
      "Number of image files associated with Subject \"01\": 2\n",
      "Number of image files associated with Subject \"invalidSubject\": 0\n",
      "Number of functional images: 1\n",
      "Number of anatomical images: 1\n"
     ]
    }
   ],
   "source": [
    "# Any BIDS entity can be extracted from the archive using getEntity() (e.g., getSubjects(), getRuns(), getTasks())\n",
    "entityDict = {'subject': archive.getSubjects()[0]}\n",
    "\n",
    "print('Dataset info: Subjects: {subjects} | Runs: {runs} | Tasks: {tasks}\\n'\n",
    "      .format(subjects=archive.getSubjects(), runs=archive.getRuns(), tasks=archive.getTasks()))\n",
    "\n",
    "# Only images that match the provided entities are returned\n",
    "images = archive.getImages(entityDict)\n",
    "print('Number of image files associated with Subject \"{}\": {}'.format(entityDict['subject'], len(images)))\n",
    "\n",
    "# No images are returned if matches aren't found\n",
    "entityDict['subject'] = 'invalidSubject'\n",
    "images = archive.getImages(entityDict)\n",
    "print('Number of image files associated with Subject \"{}\": {}'.format(entityDict['subject'], len(images)))\n",
    "entityDict['subject'] = archive.getSubjects()[0]\n",
    "\n",
    "# Images can also be filtered by data type (e.g., functional ('func') or anatomical ('anat'))\n",
    "entityDict['datatype'] = 'func'\n",
    "images = archive.getImages(entityDict)\n",
    "print('Number of functional images: {}'.format(len(images)))\n",
    "\n",
    "entityDict['datatype'] = 'anat'\n",
    "images = archive.getImages(entityDict)\n",
    "print('Number of anatomical images: {}'.format(len(images)))"
   ]
  },
  {
   "cell_type": "markdown",
   "metadata": {},
   "source": [
    "# BIDS Archive: Getting Incremental"
   ]
  },
  {
   "cell_type": "markdown",
   "metadata": {},
   "source": [
    "# BIDS Archive: Appending Incremental"
   ]
  },
  {
   "cell_type": "markdown",
   "metadata": {},
   "source": [
    "# BIDS Incremental: Creating Incremental"
   ]
  },
  {
   "cell_type": "markdown",
   "metadata": {},
   "source": [
    "# BIDS Incremental: Querying Incremental"
   ]
  },
  {
   "cell_type": "markdown",
   "metadata": {},
   "source": [
    "# BIDS Incremental: Writing to Disk"
   ]
  },
  {
   "cell_type": "markdown",
   "metadata": {},
   "source": [
    "# BIDS Incremental: Sending Over a Network"
   ]
  },
  {
   "cell_type": "code",
   "execution_count": null,
   "metadata": {},
   "outputs": [],
   "source": []
  }
 ],
 "metadata": {
  "kernelspec": {
   "display_name": "Python [conda env:rtcloud] *",
   "language": "python",
   "name": "conda-env-rtcloud-py"
  },
  "language_info": {
   "codemirror_mode": {
    "name": "ipython",
    "version": 3
   },
   "file_extension": ".py",
   "mimetype": "text/x-python",
   "name": "python",
   "nbconvert_exporter": "python",
   "pygments_lexer": "ipython3",
   "version": "3.6.12"
  }
 },
 "nbformat": 4,
 "nbformat_minor": 4
}
